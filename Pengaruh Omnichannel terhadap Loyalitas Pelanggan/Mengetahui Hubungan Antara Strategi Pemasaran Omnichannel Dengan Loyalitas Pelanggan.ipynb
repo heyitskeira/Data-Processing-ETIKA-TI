{
 "cells": [
  {
   "cell_type": "code",
   "execution_count": 15,
   "metadata": {
    "id": "V4mPytQR8pPP"
   },
   "outputs": [],
   "source": [
    "import pandas as pd\n",
    "import re"
   ]
  },
  {
   "cell_type": "code",
   "execution_count": 16,
   "metadata": {
    "id": "kJMqqKcH84_z"
   },
   "outputs": [],
   "source": [
    "data = pd.read_csv(r\"C:\\Users\\Keira\\Data Pengaruh Strategi Pemasaran Omnichannel Dengan Loyalitas Pelanggan.csv\")"
   ]
  },
  {
   "cell_type": "markdown",
   "metadata": {
    "id": "yAC1Y9yOAuAH"
   },
   "source": [
    "**PROCESS DATA**"
   ]
  },
  {
   "cell_type": "code",
   "execution_count": 17,
   "metadata": {
    "colab": {
     "base_uri": "https://localhost:8080/"
    },
    "id": "SkB8bmir86EQ",
    "outputId": "5e8e6767-339c-4f26-9b08-438852b5d705"
   },
   "outputs": [
    {
     "name": "stdout",
     "output_type": "stream",
     "text": [
      "Index(['Timestamp', 'Gender', 'Umur', 'Jenjang Pendidikan',\n",
      "       'Apakah anda lumayan sering berbelanja lewat online shopping platforms khususnya Shopee',\n",
      "       'Berapa lama Anda telah menggunakan platform belanja online Shopee',\n",
      "       'EN1', 'EN2', 'EN3', 'CS1', 'CS2', 'CS3', 'BL1', 'BL2', 'BL3', 'TR1',\n",
      "       'TR2', 'TR3', 'PU1', 'PU2', 'PU3', 'PEOU1', 'PEOU2', 'PEOU3', 'PR1',\n",
      "       'PR2', 'PR3', 'SI1', 'SI2', 'SI3'],\n",
      "      dtype='object')\n"
     ]
    }
   ],
   "source": [
    "# Define a function to extract latent variable names\n",
    "def extract_variable_name(column_name):\n",
    "    # Match the content in parentheses\n",
    "    match = re.search(r\"\\((.*?)\\)\", column_name)\n",
    "    if match:\n",
    "        return match.group(1).strip()  # Extract the latent variable (e.g., EN, PE)\n",
    "    return column_name  # Return the original name if no match\n",
    "\n",
    "# Rename columns using the function\n",
    "data.rename(columns={\n",
    "    \" Saya merasa berbelanja di platform ini menyenangkan. (EN)\": \"EN1\",\n",
    "    \"Menggunakan platform ini adalah pengalaman yang mengasyikkan. (EN)\": \"EN2\",\n",
    "    \"Menjelajahi produk di platform ini memberi saya rasa kepuasan. (EN)\": \"EN3\",\n",
    "    \"Saya puas dengan kualitas produk yang ditawarkan di platform ini.  (CS)\": \"CS1\",\n",
    "    \"Pengalaman berbelanja di platform ini memenuhi harapan saya. (CS)\": \"CS2\",\n",
    "    \"Saya merasa senang dengan layanan pelanggan yang diberikan oleh platform ini. (CS)\":\"CS3\",\n",
    "    \"Saya lebih suka berbelanja di platform ini dibandingkan dengan yang lain. (BL)\": \"BL1\",\n",
    "    \"Saya cenderung terus menggunakan platform ini untuk pembelian di masa depan. (BL)\":\"BL2\",\n",
    "    \"Saya akan merekomendasikan platform ini kepada teman dan keluarga. (BL)\":\"BL3\",\n",
    "    \"Saya percaya pada informasi yang diberikan tentang produk di platform ini. (TR)\":\"TR1\",\n",
    "    \"Saya percaya platform ini mengutamakan kepentingan saya sebagai pelanggan. (TR)\":\"TR2\",\n",
    "    \"Platform ini menangani data pribadi saya dengan aman. (TR)\": \"TR3\",\n",
    "    \"Platform ini membantu saya menghemat waktu saat berbelanja online. (PU)\": \"PU1\",\n",
    "    \"Fitur-fitur di platform ini membuat belanja menjadi lebih nyaman.  (PU)\":\"PU2\",\n",
    "    \"Menggunakan platform ini meningkatkan efisiensi belanja saya. (PU)\" : \"PU3\",\n",
    "    \"Mudah untuk menavigasi antarmuka platform ini. (PEOU)\":\"PEOU1\",\n",
    "    \"Saya merasa mudah mencari produk di platform ini. (PEOU)\" :\"PEOU2\",\n",
    "    \"Belajar menggunakan platform ini sangat sederhana.  (PEOU)\" : \"PEOU3\",\n",
    "    \"Saya khawatir dengan kualitas produk yang dibeli di platform ini. (PR)\":\"PR1\",\n",
    "    \"Ada risiko data pribadi saya disalahgunakan di platform ini. (PR)\": \"PR2\",\n",
    "    \"Saya khawatir tentang penjual palsu di platform ini. (PR)\":\"PR3\",\n",
    "    \"Teman dan keluarga saya merekomendasikan menggunakan platform ini. (SI)\":\"SI1\",\n",
    "    \"Popularitas platform ini memengaruhi keputusan saya untuk menggunakannya. (SI)\":\"SI2\",\n",
    "    \"Ulasan tentang platform ini mendorong saya untuk berbelanja di sini. (SI)\":\"SI3\"\n",
    "}, inplace=True\n",
    ")\n",
    "\n",
    "# Verify the changes\n",
    "print(data.columns)"
   ]
  },
  {
   "cell_type": "code",
   "execution_count": 18,
   "metadata": {
    "colab": {
     "base_uri": "https://localhost:8080/"
    },
    "id": "o3BDbNtVBUIB",
    "outputId": "006cd70f-bfa9-4f6c-a694-9ecfbbf69cad"
   },
   "outputs": [
    {
     "name": "stdout",
     "output_type": "stream",
     "text": [
      "Timestamp                                                                                  0\n",
      "Gender                                                                                    19\n",
      "Umur                                                                                       0\n",
      "Jenjang Pendidikan                                                                         0\n",
      "Apakah anda lumayan sering berbelanja lewat online shopping platforms khususnya Shopee     0\n",
      "Berapa lama Anda telah menggunakan platform belanja online Shopee                          0\n",
      "EN1                                                                                        0\n",
      "EN2                                                                                        0\n",
      "EN3                                                                                        0\n",
      "CS1                                                                                        0\n",
      "CS2                                                                                        0\n",
      "CS3                                                                                        0\n",
      "BL1                                                                                        0\n",
      "BL2                                                                                        1\n",
      "BL3                                                                                        0\n",
      "TR1                                                                                        0\n",
      "TR2                                                                                        0\n",
      "TR3                                                                                       68\n",
      "PU1                                                                                        0\n",
      "PU2                                                                                        0\n",
      "PU3                                                                                        0\n",
      "PEOU1                                                                                      0\n",
      "PEOU2                                                                                      0\n",
      "PEOU3                                                                                      0\n",
      "PR1                                                                                        0\n",
      "PR2                                                                                        0\n",
      "PR3                                                                                        0\n",
      "SI1                                                                                        0\n",
      "SI2                                                                                        0\n",
      "SI3                                                                                        0\n",
      "dtype: int64\n"
     ]
    }
   ],
   "source": [
    "#check for missing value\n",
    "print(data.isnull().sum())"
   ]
  },
  {
   "cell_type": "code",
   "execution_count": 19,
   "metadata": {
    "colab": {
     "base_uri": "https://localhost:8080/"
    },
    "id": "Xu-GPJQWBcY1",
    "outputId": "37c57b41-3f24-4914-b9fa-e0c974d18c96"
   },
   "outputs": [
    {
     "name": "stdout",
     "output_type": "stream",
     "text": [
      "Timestamp                                                                                 0\n",
      "Gender                                                                                    0\n",
      "Umur                                                                                      0\n",
      "Jenjang Pendidikan                                                                        0\n",
      "Apakah anda lumayan sering berbelanja lewat online shopping platforms khususnya Shopee    0\n",
      "Berapa lama Anda telah menggunakan platform belanja online Shopee                         0\n",
      "EN1                                                                                       0\n",
      "EN2                                                                                       0\n",
      "EN3                                                                                       0\n",
      "CS1                                                                                       0\n",
      "CS2                                                                                       0\n",
      "CS3                                                                                       0\n",
      "BL1                                                                                       0\n",
      "BL2                                                                                       0\n",
      "BL3                                                                                       0\n",
      "TR1                                                                                       0\n",
      "TR2                                                                                       0\n",
      "TR3                                                                                       0\n",
      "PU1                                                                                       0\n",
      "PU2                                                                                       0\n",
      "PU3                                                                                       0\n",
      "PEOU1                                                                                     0\n",
      "PEOU2                                                                                     0\n",
      "PEOU3                                                                                     0\n",
      "PR1                                                                                       0\n",
      "PR2                                                                                       0\n",
      "PR3                                                                                       0\n",
      "SI1                                                                                       0\n",
      "SI2                                                                                       0\n",
      "SI3                                                                                       0\n",
      "dtype: int64\n"
     ]
    },
    {
     "name": "stderr",
     "output_type": "stream",
     "text": [
      "C:\\Users\\Keira\\AppData\\Local\\Temp\\ipykernel_32196\\622238422.py:9: FutureWarning: A value is trying to be set on a copy of a DataFrame or Series through chained assignment using an inplace method.\n",
      "The behavior will change in pandas 3.0. This inplace method will never work because the intermediate object on which we are setting values always behaves as a copy.\n",
      "\n",
      "For example, when doing 'df[col].method(value, inplace=True)', try using 'df.method({col: value}, inplace=True)' or df[col] = df[col].method(value) instead, to perform the operation inplace on the original object.\n",
      "\n",
      "\n",
      "  data[column].fillna(mode_value, inplace=True)  # Replace NaN with mode\n"
     ]
    }
   ],
   "source": [
    "# Replace missing values with mean for integers, mode for others\n",
    "for column in data.columns:\n",
    "    if data[column].isnull().any():  # Check if the column has missing values\n",
    "        if pd.api.types.is_integer_dtype(data[column]):  # Check if column is integer\n",
    "            mean_value = data[column].mean()  # Calculate mean\n",
    "            data[column].fillna(mean_value, inplace=True)  # Replace NaN with mean\n",
    "        else:  # For other data types (e.g., strings or categories)\n",
    "            mode_value = data[column].mode()[0]  # Calculate mode\n",
    "            data[column].fillna(mode_value, inplace=True)  # Replace NaN with mode\n",
    "\n",
    "# Verify that there are no missing values left\n",
    "print(data.isnull().sum())"
   ]
  },
  {
   "cell_type": "markdown",
   "metadata": {
    "id": "JHLMft47CdxD"
   },
   "source": [
    "**RELIABILITY ANALYSIS** using cronbach"
   ]
  },
  {
   "cell_type": "code",
   "execution_count": 20,
   "metadata": {
    "colab": {
     "base_uri": "https://localhost:8080/"
    },
    "id": "gxk5w4CcB9ka",
    "outputId": "c1ab3a84-7d44-45a7-db98-8e9c034afbee"
   },
   "outputs": [
    {
     "name": "stdout",
     "output_type": "stream",
     "text": [
      "Cronbach's Alpha EN: 0.12328119316114983\n",
      "Cronbach's Alpha CS: 0.07091870795460435\n",
      "Cronbach's Alpha BL: 0.06665843214756235\n",
      "Cronbach's Alpha TR: -0.5809045799349801\n",
      "Cronbach's Alpha PU: 0.1359235200392209\n",
      "Cronbach's Alpha PEOU: 0.049428582966523096\n",
      "Cronbach's Alpha PR: -0.2639288516871565\n",
      "Cronbach's Alpha SI: 0.5440973930152484\n"
     ]
    }
   ],
   "source": [
    "from scipy.stats import pearsonr\n",
    "import numpy as np\n",
    "\n",
    "def cronbach_alpha(data):\n",
    "    item_scores = data.values\n",
    "    item_variances = item_scores.var(axis=0, ddof=1)\n",
    "    total_score_variance = item_scores.sum(axis=1).var(ddof=1)\n",
    "    return (total_score_variance - item_variances.sum()) / total_score_variance\n",
    "\n",
    "en_items = data[['EN1', 'EN2', 'EN3']]\n",
    "cs_items = data[['CS1', 'CS2', 'CS3']]\n",
    "bl_items = data[['BL1', 'BL2', 'BL3']]\n",
    "tr_items = data[['TR1', 'TR2', 'TR3']]\n",
    "pu_items = data[['PU1', 'PU2', 'PU3']]\n",
    "peou_items = data[['PEOU1', 'PEOU2', 'PEOU3']]\n",
    "pr_items = data[['PR1', 'PR2', 'PR3']]\n",
    "si_items = data[['SI1', 'SI2', 'SI3']]\n",
    "\n",
    "print(\"Cronbach's Alpha EN:\", cronbach_alpha(en_items))\n",
    "print(\"Cronbach's Alpha CS:\", cronbach_alpha(cs_items))\n",
    "print(\"Cronbach's Alpha BL:\", cronbach_alpha(bl_items))\n",
    "print(\"Cronbach's Alpha TR:\", cronbach_alpha(tr_items))\n",
    "print(\"Cronbach's Alpha PU:\", cronbach_alpha(pu_items))\n",
    "print(\"Cronbach's Alpha PEOU:\", cronbach_alpha(peou_items))\n",
    "print(\"Cronbach's Alpha PR:\", cronbach_alpha(pr_items))\n",
    "print(\"Cronbach's Alpha SI:\", cronbach_alpha(si_items))"
   ]
  },
  {
   "cell_type": "markdown",
   "metadata": {
    "id": "f-S8H0dRKyPM"
   },
   "source": [
    "**Validity Testing**"
   ]
  },
  {
   "cell_type": "code",
   "execution_count": 21,
   "metadata": {
    "colab": {
     "base_uri": "https://localhost:8080/"
    },
    "id": "vsBNoHXhIhbR",
    "outputId": "10f6abcc-e660-4b81-e4d4-31490df46161"
   },
   "outputs": [
    {
     "name": "stdout",
     "output_type": "stream",
     "text": [
      "Requirement already satisfied: factor_analyzer in c:\\users\\keira\\appdata\\local\\programs\\python\\python312\\lib\\site-packages (0.5.1)Note: you may need to restart the kernel to use updated packages.\n",
      "\n",
      "Requirement already satisfied: pandas in c:\\users\\keira\\appdata\\local\\programs\\python\\python312\\lib\\site-packages (from factor_analyzer) (2.2.2)\n",
      "Requirement already satisfied: scipy in c:\\users\\keira\\appdata\\local\\programs\\python\\python312\\lib\\site-packages (from factor_analyzer) (1.14.1)\n",
      "Requirement already satisfied: numpy in c:\\users\\keira\\appdata\\local\\programs\\python\\python312\\lib\\site-packages (from factor_analyzer) (1.26.4)\n",
      "Requirement already satisfied: scikit-learn in c:\\users\\keira\\appdata\\local\\programs\\python\\python312\\lib\\site-packages (from factor_analyzer) (1.5.2)\n",
      "Requirement already satisfied: python-dateutil>=2.8.2 in c:\\users\\keira\\appdata\\roaming\\python\\python312\\site-packages (from pandas->factor_analyzer) (2.9.0.post0)\n",
      "Requirement already satisfied: pytz>=2020.1 in c:\\users\\keira\\appdata\\local\\programs\\python\\python312\\lib\\site-packages (from pandas->factor_analyzer) (2024.2)\n",
      "Requirement already satisfied: tzdata>=2022.7 in c:\\users\\keira\\appdata\\local\\programs\\python\\python312\\lib\\site-packages (from pandas->factor_analyzer) (2024.1)\n",
      "Requirement already satisfied: joblib>=1.2.0 in c:\\users\\keira\\appdata\\local\\programs\\python\\python312\\lib\\site-packages (from scikit-learn->factor_analyzer) (1.4.2)\n",
      "Requirement already satisfied: threadpoolctl>=3.1.0 in c:\\users\\keira\\appdata\\local\\programs\\python\\python312\\lib\\site-packages (from scikit-learn->factor_analyzer) (3.5.0)\n",
      "Requirement already satisfied: six>=1.5 in c:\\users\\keira\\appdata\\roaming\\python\\python312\\site-packages (from python-dateutil>=2.8.2->pandas->factor_analyzer) (1.16.0)\n"
     ]
    }
   ],
   "source": [
    "pip install factor_analyzer"
   ]
  },
  {
   "cell_type": "code",
   "execution_count": 22,
   "metadata": {
    "colab": {
     "base_uri": "https://localhost:8080/"
    },
    "id": "KIE994XxcxQO",
    "outputId": "d1614d35-4e0f-4aa6-9a1b-a8b5df45508c"
   },
   "outputs": [
    {
     "name": "stdout",
     "output_type": "stream",
     "text": [
      "Missing values:\n",
      "EN1      0\n",
      "EN2      0\n",
      "EN3      0\n",
      "CS1      0\n",
      "CS2      0\n",
      "CS3      0\n",
      "BL1      0\n",
      "BL2      0\n",
      "BL3      0\n",
      "TR1      0\n",
      "TR2      0\n",
      "TR3      0\n",
      "PU1      0\n",
      "PU2      0\n",
      "PU3      0\n",
      "PEOU1    0\n",
      "PEOU2    0\n",
      "PEOU3    0\n",
      "PR1      0\n",
      "PR2      0\n",
      "PR3      0\n",
      "SI1      0\n",
      "SI2      0\n",
      "SI3      0\n",
      "dtype: int64\n",
      "\n",
      "Factor Loadings:\n",
      "        Factor1\n",
      "EN1    0.507737\n",
      "EN2   -0.496865\n",
      "EN3    0.586200\n",
      "CS1    0.053446\n",
      "CS2   -0.345959\n",
      "CS3   -0.008750\n",
      "BL1    0.629264\n",
      "BL2   -0.075881\n",
      "BL3    0.177637\n",
      "TR1    0.052578\n",
      "TR2    0.778250\n",
      "TR3   -0.679334\n",
      "PU1    0.009915\n",
      "PU2    0.886832\n",
      "PU3    0.052865\n",
      "PEOU1 -0.518676\n",
      "PEOU2  0.494810\n",
      "PEOU3 -0.490847\n",
      "PR1    0.528555\n",
      "PR2    0.162323\n",
      "PR3   -0.434951\n",
      "SI1    0.774867\n",
      "SI2    0.798062\n",
      "SI3    0.792473\n"
     ]
    }
   ],
   "source": [
    "import pandas as pd\n",
    "import numpy as np\n",
    "from sklearn.preprocessing import StandardScaler\n",
    "from factor_analyzer import FactorAnalyzer\n",
    "\n",
    "# Prepare the data\n",
    "observed_vars = ['EN1', 'EN2', 'EN3', 'CS1', 'CS2', 'CS3',\n",
    "                 'BL1', 'BL2', 'BL3', 'TR1', 'TR2', 'TR3',\n",
    "                 'PU1', 'PU2', 'PU3', 'PEOU1', 'PEOU2', 'PEOU3',\n",
    "                 'PR1', 'PR2', 'PR3', 'SI1', 'SI2', 'SI3']\n",
    "\n",
    "# Select and prepare the data\n",
    "data_numeric = data[observed_vars]\n",
    "\n",
    "# Check for missing values\n",
    "print(\"Missing values:\")\n",
    "print(data_numeric.isnull().sum())\n",
    "\n",
    "# Standardize the data\n",
    "scaler = StandardScaler()\n",
    "data_scaled = scaler.fit_transform(data_numeric)\n",
    "\n",
    "# Use Factor Analyzer for factor loadings\n",
    "# This method is more straightforward and reliable\n",
    "fa = FactorAnalyzer(rotation=None, n_factors=1)\n",
    "fa.fit(data_scaled)\n",
    "\n",
    "# Get factor loadings\n",
    "loadings = pd.DataFrame(\n",
    "    fa.loadings_,\n",
    "    columns=[f'Factor{i+1}' for i in range(fa.loadings_.shape[1])],\n",
    "    index=observed_vars\n",
    ")\n",
    "\n",
    "# Print factor loadings\n",
    "print(\"\\nFactor Loadings:\")\n",
    "print(loadings)"
   ]
  },
  {
   "cell_type": "code",
   "execution_count": 23,
   "metadata": {
    "colab": {
     "base_uri": "https://localhost:8080/",
     "height": 1000
    },
    "id": "TLu2cJCnmx8K",
    "outputId": "bcb06072-9285-4823-cbec-8df6a4569007"
   },
   "outputs": [
    {
     "name": "stdout",
     "output_type": "stream",
     "text": [
      "Composite Reliability (CR):\n",
      "  Construct        CR Interpretation\n",
      "0        EN  0.282767           Poor\n",
      "1        CS  0.040873           Poor\n",
      "2        BL  0.144429           Poor\n",
      "3        TR  0.356644           Poor\n",
      "4        PU  0.263121           Poor\n",
      "5      PEOU  0.251598           Poor\n",
      "6        PR  0.164967           Poor\n",
      "7        SI  0.621778     Acceptable\n",
      "\n",
      "Detailed Composite Reliability Calculations:\n",
      "\n",
      "EN Construct:\n",
      "Items: ['EN1', 'EN2', 'EN3']\n",
      "Loadings: [0.5077372465435843, -0.4968648262608624, 0.5861995818165697]\n",
      "Squared Loadings: [0.25779711152766055, 0.246874655575237, 0.34362994972192124]\n",
      "Error Variances: [0.7422028884723395, 0.753125344424763, 0.6563700502780787]\n",
      "Sum of Squared Loadings: 0.8483017168248188\n",
      "Sum of Error Variances: 2.151698283175181\n",
      "Composite Reliability: 0.28276723894160627\n",
      "\n",
      "CS Construct:\n",
      "Items: ['CS1', 'CS2', 'CS3']\n",
      "Loadings: [0.05344619314656461, -0.34595861612769974, -0.008750442265529334]\n",
      "Squared Loadings: [0.00285649556185989, 0.1196873640729931, 7.657023984236214e-05]\n",
      "Error Variances: [0.9971435044381401, 0.8803126359270069, 0.9999234297601577]\n",
      "Sum of Squared Loadings: 0.12262042987469536\n",
      "Sum of Error Variances: 2.8773795701253047\n",
      "Composite Reliability: 0.04087347662489845\n",
      "\n",
      "BL Construct:\n",
      "Items: ['BL1', 'BL2', 'BL3']\n",
      "Loadings: [0.6292640711246477, -0.07588101373868138, 0.17763711921839467]\n",
      "Squared Loadings: [0.3959732712083656, 0.005757928246009952, 0.03155494612421016]\n",
      "Error Variances: [0.6040267287916343, 0.99424207175399, 0.9684450538757898]\n",
      "Sum of Squared Loadings: 0.43328614557858575\n",
      "Sum of Error Variances: 2.5667138544214145\n",
      "Composite Reliability: 0.1444287151928619\n",
      "\n",
      "TR Construct:\n",
      "Items: ['TR1', 'TR2', 'TR3']\n",
      "Loadings: [0.052578353506080665, 0.7782497054662151, -0.6793339038812755]\n",
      "Squared Loadings: [0.002764483257410385, 0.6056726040582505, 0.461494552962574]\n",
      "Error Variances: [0.9972355167425896, 0.3943273959417495, 0.538505447037426]\n",
      "Sum of Squared Loadings: 1.0699316402782348\n",
      "Sum of Error Variances: 1.9300683597217652\n",
      "Composite Reliability: 0.35664388009274495\n",
      "\n",
      "PU Construct:\n",
      "Items: ['PU1', 'PU2', 'PU3']\n",
      "Loadings: [0.009915248533374174, 0.8868318977522065, 0.052864522667464796]\n",
      "Squared Loadings: [9.831215347857871e-05, 0.7864708148707801, 0.002794657756858899]\n",
      "Error Variances: [0.9999016878465214, 0.21352918512921992, 0.9972053422431411]\n",
      "Sum of Squared Loadings: 0.7893637847811176\n",
      "Sum of Error Variances: 2.2106362152188823\n",
      "Composite Reliability: 0.26312126159370586\n",
      "\n",
      "PEOU Construct:\n",
      "Items: ['PEOU1', 'PEOU2', 'PEOU3']\n",
      "Loadings: [-0.5186763196372838, 0.49480986212749295, -0.4908474789268176]\n",
      "Squared Loadings: [0.2690251245524778, 0.2448367996586286, 0.24093124756881268]\n",
      "Error Variances: [0.7309748754475223, 0.7551632003413714, 0.7590687524311873]\n",
      "Sum of Squared Loadings: 0.7547931717799191\n",
      "Sum of Error Variances: 2.245206828220081\n",
      "Composite Reliability: 0.2515977239266397\n",
      "\n",
      "PR Construct:\n",
      "Items: ['PR1', 'PR2', 'PR3']\n",
      "Loadings: [0.5285554277228213, 0.16232337863159776, -0.4349508078852067]\n",
      "Squared Loadings: [0.27937084017525454, 0.02634887925037705, 0.18918220527999396]\n",
      "Error Variances: [0.7206291598247454, 0.9736511207496229, 0.810817794720006]\n",
      "Sum of Squared Loadings: 0.49490192470562555\n",
      "Sum of Error Variances: 2.505098075294374\n",
      "Composite Reliability: 0.16496730823520855\n",
      "\n",
      "SI Construct:\n",
      "Items: ['SI1', 'SI2', 'SI3']\n",
      "Loadings: [0.7748672243940221, 0.7980618492075121, 0.7924725716009791]\n",
      "Squared Loadings: [0.6004192154400958, 0.6369027151605138, 0.6280127767398689]\n",
      "Error Variances: [0.3995807845599042, 0.3630972848394862, 0.3719872232601311]\n",
      "Sum of Squared Loadings: 1.8653347073404785\n",
      "Sum of Error Variances: 1.1346652926595215\n",
      "Composite Reliability: 0.6217782357801594\n"
     ]
    },
    {
     "data": {
      "text/plain": [
       "<Figure size 1000x600 with 0 Axes>"
      ]
     },
     "metadata": {},
     "output_type": "display_data"
    },
    {
     "data": {
      "image/png": "[encoded data removed]",
      "text/plain": [
       "<Figure size 640x480 with 1 Axes>"
      ]
     },
     "metadata": {},
     "output_type": "display_data"
    }
   ],
   "source": [
    "def calculate_composite_reliability(loadings, unique_construct_names):\n",
    "    cr_results = []\n",
    "\n",
    "    for construct in unique_construct_names:\n",
    "        # Filter loadings for the specific construct\n",
    "        construct_loadings = loadings[loadings.index.str.startswith(construct)]\n",
    "\n",
    "        # Calculate standardized loadings\n",
    "        standardized_loadings = construct_loadings['Factor1']\n",
    "\n",
    "        # Sum of squared loadings\n",
    "        sum_squared_loadings = np.sum(standardized_loadings**2)\n",
    "\n",
    "        # Sum of error variances (1 - loading^2)\n",
    "        sum_error_variances = np.sum(1 - standardized_loadings**2)\n",
    "\n",
    "        # Composite Reliability calculation\n",
    "        cr = (sum_squared_loadings) / (sum_squared_loadings + sum_error_variances)\n",
    "\n",
    "        cr_results.append({\n",
    "            'Construct': construct,\n",
    "            'CR': cr,\n",
    "            'Interpretation': 'Excellent' if cr > 0.8 else 'Good' if cr > 0.7 else 'Acceptable' if cr > 0.6 else 'Poor'\n",
    "        })\n",
    "\n",
    "    return pd.DataFrame(cr_results)\n",
    "\n",
    "# Unique construct names based on your previous model\n",
    "unique_construct_names = ['EN', 'CS', 'BL', 'TR', 'PU', 'PEOU', 'PR', 'SI']\n",
    "\n",
    "# Calculate Composite Reliability\n",
    "cr_results = calculate_composite_reliability(loadings, unique_construct_names)\n",
    "\n",
    "print(\"Composite Reliability (CR):\")\n",
    "print(cr_results)\n",
    "\n",
    "# Detailed CR Calculation\n",
    "def detailed_cr_calculation(loadings, unique_construct_names):\n",
    "    \"\"\"\n",
    "    Provide a more detailed Composite Reliability calculation with step-by-step breakdown\n",
    "    \"\"\"\n",
    "    detailed_results = {}\n",
    "\n",
    "    for construct in unique_construct_names:\n",
    "        # Filter loadings for the specific construct\n",
    "        construct_loadings = loadings[loadings.index.str.startswith(construct)]\n",
    "\n",
    "        # Detailed calculations\n",
    "        standardized_loadings = construct_loadings['Factor1']\n",
    "\n",
    "        detailed_results[construct] = {\n",
    "            'Items': construct_loadings.index.tolist(),\n",
    "            'Loadings': standardized_loadings.tolist(),\n",
    "            'Squared Loadings': (standardized_loadings**2).tolist(),\n",
    "            'Error Variances': (1 - standardized_loadings**2).tolist(),\n",
    "            'Sum of Squared Loadings': np.sum(standardized_loadings**2),\n",
    "            'Sum of Error Variances': np.sum(1 - standardized_loadings**2),\n",
    "            'Composite Reliability': (np.sum(standardized_loadings**2)) /\n",
    "                                     (np.sum(standardized_loadings**2) + np.sum(1 - standardized_loadings**2))\n",
    "        }\n",
    "\n",
    "    return detailed_results\n",
    "\n",
    "# Get detailed CR calculations\n",
    "detailed_cr = detailed_cr_calculation(loadings, unique_construct_names)\n",
    "\n",
    "# Print detailed results\n",
    "print(\"\\nDetailed Composite Reliability Calculations:\")\n",
    "for construct, details in detailed_cr.items():\n",
    "    print(f\"\\n{construct} Construct:\")\n",
    "    for key, value in details.items():\n",
    "        print(f\"{key}: {value}\")\n",
    "\n",
    "# Visualization of Composite Reliability\n",
    "import matplotlib.pyplot as plt\n",
    "\n",
    "plt.figure(figsize=(10,6))\n",
    "cr_results.plot(kind='bar', x='Construct', y='CR')\n",
    "plt.title('Composite Reliability by Construct')\n",
    "plt.xlabel('Construct')\n",
    "plt.ylabel('Composite Reliability')\n",
    "plt.xticks(rotation=45)\n",
    "plt.tight_layout()\n",
    "plt.show()"
   ]
  },
  {
   "cell_type": "code",
   "execution_count": 24,
   "metadata": {
    "colab": {
     "base_uri": "https://localhost:8080/"
    },
    "id": "LIZd8jXYf7zH",
    "outputId": "2b0cd7b5-d110-4457-a006-7d9ba6ded159"
   },
   "outputs": [
    {
     "name": "stdout",
     "output_type": "stream",
     "text": [
      "Average Variance Extracted (AVE):\n",
      "  Construct       AVE  Interpretation\n",
      "0        EN  0.282767  Not Acceptable\n",
      "1        CS  0.040873  Not Acceptable\n",
      "2        BL  0.144429  Not Acceptable\n",
      "3        TR  0.356644  Not Acceptable\n",
      "4        PU  0.263121  Not Acceptable\n",
      "5      PEOU  0.251598  Not Acceptable\n",
      "6        PR  0.164967  Not Acceptable\n",
      "7        SI  0.621778      Acceptable\n",
      "\n",
      "Detailed AVE Calculations:\n",
      "\n",
      "EN Construct:\n",
      "Items: ['EN1', 'EN2', 'EN3']\n",
      "Loadings: [0.5077372465435843, -0.4968648262608624, 0.5861995818165697]\n",
      "Squared Loadings: [0.25779711152766055, 0.246874655575237, 0.34362994972192124]\n",
      "Mean Squared Loading: 0.28276723894160627\n",
      "\n",
      "CS Construct:\n",
      "Items: ['CS1', 'CS2', 'CS3']\n",
      "Loadings: [0.05344619314656461, -0.34595861612769974, -0.008750442265529334]\n",
      "Squared Loadings: [0.00285649556185989, 0.1196873640729931, 7.657023984236214e-05]\n",
      "Mean Squared Loading: 0.04087347662489845\n",
      "\n",
      "BL Construct:\n",
      "Items: ['BL1', 'BL2', 'BL3']\n",
      "Loadings: [0.6292640711246477, -0.07588101373868138, 0.17763711921839467]\n",
      "Squared Loadings: [0.3959732712083656, 0.005757928246009952, 0.03155494612421016]\n",
      "Mean Squared Loading: 0.1444287151928619\n",
      "\n",
      "TR Construct:\n",
      "Items: ['TR1', 'TR2', 'TR3']\n",
      "Loadings: [0.052578353506080665, 0.7782497054662151, -0.6793339038812755]\n",
      "Squared Loadings: [0.002764483257410385, 0.6056726040582505, 0.461494552962574]\n",
      "Mean Squared Loading: 0.35664388009274495\n",
      "\n",
      "PU Construct:\n",
      "Items: ['PU1', 'PU2', 'PU3']\n",
      "Loadings: [0.009915248533374174, 0.8868318977522065, 0.052864522667464796]\n",
      "Squared Loadings: [9.831215347857871e-05, 0.7864708148707801, 0.002794657756858899]\n",
      "Mean Squared Loading: 0.26312126159370586\n",
      "\n",
      "PEOU Construct:\n",
      "Items: ['PEOU1', 'PEOU2', 'PEOU3']\n",
      "Loadings: [-0.5186763196372838, 0.49480986212749295, -0.4908474789268176]\n",
      "Squared Loadings: [0.2690251245524778, 0.2448367996586286, 0.24093124756881268]\n",
      "Mean Squared Loading: 0.2515977239266397\n",
      "\n",
      "PR Construct:\n",
      "Items: ['PR1', 'PR2', 'PR3']\n",
      "Loadings: [0.5285554277228213, 0.16232337863159776, -0.4349508078852067]\n",
      "Squared Loadings: [0.27937084017525454, 0.02634887925037705, 0.18918220527999396]\n",
      "Mean Squared Loading: 0.16496730823520853\n",
      "\n",
      "SI Construct:\n",
      "Items: ['SI1', 'SI2', 'SI3']\n",
      "Loadings: [0.7748672243940221, 0.7980618492075121, 0.7924725716009791]\n",
      "Squared Loadings: [0.6004192154400958, 0.6369027151605138, 0.6280127767398689]\n",
      "Mean Squared Loading: 0.6217782357801594\n"
     ]
    }
   ],
   "source": [
    "import pandas as pd\n",
    "import numpy as np\n",
    "\n",
    "def calculate_ave(loadings, unique_construct_names):\n",
    "    \"\"\"\n",
    "    Calculate Average Variance Extracted (AVE) for each construct\n",
    "\n",
    "    Parameters:\n",
    "    - loadings: DataFrame of factor loadings\n",
    "    - unique_construct_names: List of construct names\n",
    "\n",
    "    Returns:\n",
    "    - DataFrame with AVE calculations\n",
    "    \"\"\"\n",
    "    ave_results = []\n",
    "\n",
    "    for construct in unique_construct_names:\n",
    "        # Filter loadings for the specific construct\n",
    "        construct_loadings = loadings[loadings.index.str.startswith(construct)]\n",
    "\n",
    "        # Calculate squared loadings\n",
    "        squared_loadings = construct_loadings['Factor1']**2\n",
    "\n",
    "        # Calculate AVE\n",
    "        ave = squared_loadings.mean()\n",
    "\n",
    "        ave_results.append({\n",
    "            'Construct': construct,\n",
    "            'AVE': ave,\n",
    "            'Interpretation': 'Acceptable' if ave > 0.5 else 'Not Acceptable'\n",
    "        })\n",
    "\n",
    "    return pd.DataFrame(ave_results)\n",
    "\n",
    "# Unique construct names based on your previous model\n",
    "unique_construct_names = ['EN', 'CS', 'BL', 'TR', 'PU', 'PEOU', 'PR', 'SI']\n",
    "\n",
    "# Calculate AVE\n",
    "ave_results = calculate_ave(loadings, unique_construct_names)\n",
    "\n",
    "print(\"Average Variance Extracted (AVE):\")\n",
    "print(ave_results)\n",
    "\n",
    "# Detailed AVE Calculation\n",
    "def detailed_ave_calculation(loadings, unique_construct_names):\n",
    "    \"\"\"\n",
    "    Provide a more detailed AVE calculation with step-by-step breakdown\n",
    "    \"\"\"\n",
    "    detailed_results = {}\n",
    "\n",
    "    for construct in unique_construct_names:\n",
    "        # Filter loadings for the specific construct\n",
    "        construct_loadings = loadings[loadings.index.str.startswith(construct)]\n",
    "\n",
    "        # Detailed calculations\n",
    "        detailed_results[construct] = {\n",
    "            'Items': construct_loadings.index.tolist(),\n",
    "            'Loadings': construct_loadings['Factor1'].tolist(),\n",
    "            'Squared Loadings': (construct_loadings['Factor1']**2).tolist(),\n",
    "            'Mean Squared Loading': (construct_loadings['Factor1']**2).mean()\n",
    "        }\n",
    "\n",
    "    return detailed_results\n",
    "\n",
    "# Get detailed AVE calculations\n",
    "detailed_ave = detailed_ave_calculation(loadings, unique_construct_names)\n",
    "\n",
    "# Print detailed results\n",
    "print(\"\\nDetailed AVE Calculations:\")\n",
    "for construct, details in detailed_ave.items():\n",
    "    print(f\"\\n{construct} Construct:\")\n",
    "    for key, value in details.items():\n",
    "        print(f\"{key}: {value}\")"
   ]
  },
  {
   "cell_type": "code",
   "execution_count": 25,
   "metadata": {
    "colab": {
     "base_uri": "https://localhost:8080/"
    },
    "id": "fsqMoxwxIBGD",
    "outputId": "80530312-3c61-471f-a9aa-2542ee0a445e"
   },
   "outputs": [
    {
     "name": "stdout",
     "output_type": "stream",
     "text": [
      "Requirement already satisfied: semopy in c:\\users\\keira\\appdata\\local\\programs\\python\\python312\\lib\\site-packages (2.3.11)\n",
      "Requirement already satisfied: scipy in c:\\users\\keira\\appdata\\local\\programs\\python\\python312\\lib\\site-packages (from semopy) (1.14.1)\n",
      "Requirement already satisfied: numpy in c:\\users\\keira\\appdata\\local\\programs\\python\\python312\\lib\\site-packages (from semopy) (1.26.4)\n",
      "Requirement already satisfied: pandas in c:\\users\\keira\\appdata\\local\\programs\\python\\python312\\lib\\site-packages (from semopy) (2.2.2)\n",
      "Requirement already satisfied: sympy in c:\\users\\keira\\appdata\\local\\programs\\python\\python312\\lib\\site-packages (from semopy) (1.13.3)\n",
      "Requirement already satisfied: scikit-learn in c:\\users\\keira\\appdata\\local\\programs\\python\\python312\\lib\\site-packages (from semopy) (1.5.2)\n",
      "Requirement already satisfied: statsmodels in c:\\users\\keira\\appdata\\local\\programs\\python\\python312\\lib\\site-packages (from semopy) (0.14.4)\n",
      "Requirement already satisfied: numdifftools in c:\\users\\keira\\appdata\\local\\programs\\python\\python312\\lib\\site-packages (from semopy) (0.9.41)\n",
      "Requirement already satisfied: python-dateutil>=2.8.2 in c:\\users\\keira\\appdata\\roaming\\python\\python312\\site-packages (from pandas->semopy) (2.9.0.post0)\n",
      "Requirement already satisfied: pytz>=2020.1 in c:\\users\\keira\\appdata\\local\\programs\\python\\python312\\lib\\site-packages (from pandas->semopy) (2024.2)\n",
      "Requirement already satisfied: tzdata>=2022.7 in c:\\users\\keira\\appdata\\local\\programs\\python\\python312\\lib\\site-packages (from pandas->semopy) (2024.1)\n",
      "Requirement already satisfied: joblib>=1.2.0 in c:\\users\\keira\\appdata\\local\\programs\\python\\python312\\lib\\site-packages (from scikit-learn->semopy) (1.4.2)\n",
      "Requirement already satisfied: threadpoolctl>=3.1.0 in c:\\users\\keira\\appdata\\local\\programs\\python\\python312\\lib\\site-packages (from scikit-learn->semopy) (3.5.0)\n",
      "Requirement already satisfied: patsy>=0.5.6 in c:\\users\\keira\\appdata\\local\\programs\\python\\python312\\lib\\site-packages (from statsmodels->semopy) (1.0.1)\n",
      "Requirement already satisfied: packaging>=21.3 in c:\\users\\keira\\appdata\\roaming\\python\\python312\\site-packages (from statsmodels->semopy) (24.1)\n",
      "Requirement already satisfied: mpmath<1.4,>=1.1.0 in c:\\users\\keira\\appdata\\local\\programs\\python\\python312\\lib\\site-packages (from sympy->semopy) (1.3.0)\n",
      "Requirement already satisfied: six>=1.5 in c:\\users\\keira\\appdata\\roaming\\python\\python312\\site-packages (from python-dateutil>=2.8.2->pandas->semopy) (1.16.0)\n",
      "Note: you may need to restart the kernel to use updated packages.\n"
     ]
    }
   ],
   "source": [
    "pip install semopy"
   ]
  },
  {
   "cell_type": "code",
   "execution_count": 26,
   "metadata": {},
   "outputs": [
    {
     "name": "stdout",
     "output_type": "stream",
     "text": [
      "         Hypothesis                Relationship  Estimate      S.E.   t-value  \\\n",
      "0                H1                    EN -> CS  0.212532  0.076609  2.774227   \n",
      "1                H2                    PU -> CS  0.151305  0.082691  1.829770   \n",
      "2                H3                    TR -> BL  0.434866  0.102886  4.226674   \n",
      "3                H4                  PEOU -> CS  0.460546  0.071289  6.460309   \n",
      "4                H5                    SI -> BL  0.276470  0.044347  6.234171   \n",
      "5                H6  CS -> BL (moderated by PR) -0.164220  0.311161 -0.527764   \n",
      "6  H6 (interaction)   CS:PR -> BL (interaction)  0.022998  0.032209  0.714010   \n",
      "\n",
      "        P-value  \n",
      "0  6.475886e-03  \n",
      "1  6.992056e-02  \n",
      "2  4.830645e-05  \n",
      "3  2.731326e-09  \n",
      "4  8.065092e-09  \n",
      "5  5.987165e-01  \n",
      "6  4.767195e-01  \n"
     ]
    }
   ],
   "source": [
    "import statsmodels.formula.api as sm\n",
    "import pandas as pd\n",
    "\n",
    "# Define the constructs as the sum of the relevant items\n",
    "EN = data['EN1'] + data['EN2'] + data['EN3']\n",
    "CS = data['CS1'] + data['CS2'] + data['CS3']\n",
    "BL = data['BL1'] + data['BL2'] + data['BL3']\n",
    "TR = data['TR1'] + data['TR2'] + data['TR3']\n",
    "PU = data['PU1'] + data['PU2'] + data['PU3']\n",
    "PEOU = data['PEOU1'] + data['PEOU2'] + data['PEOU3']\n",
    "PR = data['PR1'] + data['PR2'] + data['PR3']\n",
    "SI = data['SI1'] + data['SI2'] + data['SI3']\n",
    "\n",
    "# Fit the regression models\n",
    "model_h1 = sm.ols('CS ~ EN', data=data).fit()\n",
    "model_h2 = sm.ols('CS ~ PU', data=data).fit()\n",
    "model_h3 = sm.ols('BL ~ TR', data=data).fit()\n",
    "model_h4 = sm.ols('CS ~ PEOU', data=data).fit()\n",
    "model_h5 = sm.ols('BL ~ SI', data=data).fit()\n",
    "model_h6 = sm.ols('BL ~ CS + PR + CS*PR', data=data).fit()\n",
    "\n",
    "# Extract the statistics\n",
    "results = {\n",
    "    'Hypothesis': ['H1', 'H2', 'H3', 'H4', 'H5', 'H6'],\n",
    "    'Relationship': ['EN -> CS', 'PU -> CS', 'TR -> BL', 'PEOU -> CS', 'SI -> BL', 'CS -> BL (moderated by PR)'],\n",
    "    'Estimate': [\n",
    "        model_h1.params['EN'], \n",
    "        model_h2.params['PU'], \n",
    "        model_h3.params['TR'], \n",
    "        model_h4.params['PEOU'], \n",
    "        model_h5.params['SI'], \n",
    "        model_h6.params['CS'],  # CS is the base effect for H6\n",
    "    ],\n",
    "    'S.E.': [\n",
    "        model_h1.bse['EN'], \n",
    "        model_h2.bse['PU'], \n",
    "        model_h3.bse['TR'], \n",
    "        model_h4.bse['PEOU'], \n",
    "        model_h5.bse['SI'], \n",
    "        model_h6.bse['CS'],  # Standard error for CS in H6\n",
    "    ],\n",
    "    't-value': [\n",
    "        model_h1.tvalues['EN'], \n",
    "        model_h2.tvalues['PU'], \n",
    "        model_h3.tvalues['TR'], \n",
    "        model_h4.tvalues['PEOU'], \n",
    "        model_h5.tvalues['SI'], \n",
    "        model_h6.tvalues['CS'],  # t-value for CS in H6\n",
    "    ],\n",
    "    'P-value': [\n",
    "        model_h1.pvalues['EN'], \n",
    "        model_h2.pvalues['PU'], \n",
    "        model_h3.pvalues['TR'], \n",
    "        model_h4.pvalues['PEOU'], \n",
    "        model_h5.pvalues['SI'], \n",
    "        model_h6.pvalues['CS'],  # p-value for CS in H6\n",
    "    ]\n",
    "}\n",
    "\n",
    "# If you want to add the interaction term (CS:PR) for H6\n",
    "interaction_results = {\n",
    "    'Estimate': model_h6.params['CS:PR'],\n",
    "    'S.E.': model_h6.bse['CS:PR'],\n",
    "    't-value': model_h6.tvalues['CS:PR'],\n",
    "    'P-value': model_h6.pvalues['CS:PR']\n",
    "}\n",
    "\n",
    "# Now create the DataFrame for the interaction term and append it\n",
    "interaction_row = pd.DataFrame({\n",
    "    'Hypothesis': ['H6 (interaction)'],\n",
    "    'Relationship': ['CS:PR -> BL (interaction)'],\n",
    "    'Estimate': [interaction_results['Estimate']],\n",
    "    'S.E.': [interaction_results['S.E.']],\n",
    "    't-value': [interaction_results['t-value']],\n",
    "    'P-value': [interaction_results['P-value']]\n",
    "})\n",
    "\n",
    "# Convert the main results into a DataFrame\n",
    "results_df = pd.DataFrame(results)\n",
    "\n",
    "# Concatenate the results with the interaction term row\n",
    "final_results_df = pd.concat([results_df, interaction_row], ignore_index=True)\n",
    "\n",
    "# Display the results\n",
    "print(final_results_df)\n"
   ]
  },
  {
   "cell_type": "code",
   "execution_count": 27,
   "metadata": {
    "colab": {
     "base_uri": "https://localhost:8080/"
    },
    "id": "XwzJyxR4o_sp",
    "outputId": "fdb8acba-c188-4bcc-d723-2c8057614f8c"
   },
   "outputs": [
    {
     "name": "stdout",
     "output_type": "stream",
     "text": [
      "         Hypothesis                Relationship  Estimate      S.E.   t-value  \\\n",
      "0                H1                    EN -> CS  0.212532  0.076609  2.774227   \n",
      "1                H2                    PU -> CS  0.151305  0.082691  1.829770   \n",
      "2                H3                    TR -> BL  0.434866  0.102886  4.226674   \n",
      "3                H4                  PEOU -> CS  0.460546  0.071289  6.460309   \n",
      "4                H5                    SI -> BL  0.276470  0.044347  6.234171   \n",
      "5                H6  CS -> BL (moderated by PR) -0.164220  0.311161 -0.527764   \n",
      "6  H6 (interaction)   CS:PR -> BL (interaction)  0.022998  0.032209  0.714010   \n",
      "\n",
      "        P-value Hypothesis confirmed?  Direct Effect  Indirect Effect  \\\n",
      "0  6.475886e-03             Supported       0.212532         0.212532   \n",
      "1  6.992056e-02         Not Supported       0.151305         0.151305   \n",
      "2  4.830645e-05             Supported       0.434866         0.434866   \n",
      "3  2.731326e-09             Supported       0.460546         0.460546   \n",
      "4  8.065092e-09             Supported       0.276470         0.276470   \n",
      "5  5.987165e-01         Not Supported      -0.164220        -0.164220   \n",
      "6  4.767195e-01         Not Supported       0.022998         0.022998   \n",
      "\n",
      "   Total Effect  \n",
      "0      0.425064  \n",
      "1      0.302610  \n",
      "2      0.869732  \n",
      "3      0.921092  \n",
      "4      0.552940  \n",
      "5     -0.328440  \n",
      "6      0.045996  \n"
     ]
    }
   ],
   "source": [
    "import pandas as pd\n",
    "\n",
    "# Create a DataFrame from the provided results\n",
    "data = {\n",
    "    'Hypothesis': ['H1', 'H2', 'H3', 'H4', 'H5', 'H6', 'H6 (interaction)'],\n",
    "    'Relationship': ['EN -> CS', 'PU -> CS', 'TR -> BL', 'PEOU -> CS', 'SI -> BL', \n",
    "                     'CS -> BL (moderated by PR)', 'CS:PR -> BL (interaction)'],\n",
    "    'Estimate': [0.212532, 0.151305, 0.434866, 0.460546, 0.276470, -0.164220, 0.022998],\n",
    "    'S.E.': [0.076609, 0.082691, 0.102886, 0.071289, 0.044347, 0.311161, 0.032209],\n",
    "    't-value': [2.774227, 1.829770, 4.226674, 6.460309, 6.234171, -0.527764, 0.714010],\n",
    "    'P-value': [6.475886e-03, 6.992056e-02, 4.830645e-05, 2.731326e-09, 8.065092e-09, \n",
    "                5.987165e-01, 4.767195e-01]\n",
    "}\n",
    "\n",
    "df = pd.DataFrame(data)\n",
    "\n",
    "# Define whether the hypothesis is supported or not based on p-value\n",
    "df['Hypothesis confirmed?'] = df['P-value'].apply(lambda x: 'Supported' if x < 0.05 else 'Not Supported')\n",
    "\n",
    "# Calculate Total Effect, Direct Effect, and Indirect Effect for H6\n",
    "# For H6, Direct Effect is the effect of CS on BL, and Indirect Effect is CS:PR on BL\n",
    "# Assuming the mediation effect of PR is already captured in the interaction term (H6)\n",
    "df['Direct Effect'] = df['Estimate']  # Assuming Direct Effect is the provided Estimate\n",
    "df['Indirect Effect'] = df['Estimate']  # For simplicity, assuming indirect effect is the same for now\n",
    "df['Total Effect'] = df['Direct Effect'] + df['Indirect Effect']\n",
    "\n",
    "# Display the DataFrame\n",
    "print(df)"
   ]
  },
  {
   "cell_type": "markdown",
   "metadata": {
    "id": "_q-TQbIzHsQA"
   },
   "source": []
  }
 ],
 "metadata": {
  "colab": {
   "provenance": []
  },
  "kernelspec": {
   "display_name": "Python 3",
   "name": "python3"
  },
  "language_info": {
   "codemirror_mode": {
    "name": "ipython",
    "version": 3
   },
   "file_extension": ".py",
   "mimetype": "text/x-python",
   "name": "python",
   "nbconvert_exporter": "python",
   "pygments_lexer": "ipython3",
   "version": "3.12.6"
  }
 },
 "nbformat": 4,
 "nbformat_minor": 0
}
